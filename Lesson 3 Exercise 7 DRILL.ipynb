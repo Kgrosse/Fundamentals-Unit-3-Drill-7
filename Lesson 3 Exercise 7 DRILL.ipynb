{
 "cells": [
  {
   "cell_type": "code",
   "execution_count": 2,
   "metadata": {},
   "outputs": [],
   "source": [
    "import numpy as np\n",
    "import pandas as pd\n",
    "import scipy\n",
    "import matplotlib.pyplot as plt\n",
    "%matplotlib inline"
   ]
  },
  {
   "cell_type": "code",
   "execution_count": 3,
   "metadata": {},
   "outputs": [],
   "source": [
    "#Create populations with n=10, and p = 0.2 for pop1 and 0.5 for pop2\n",
    "pop1 = np.random.binomial(10, 0.2, 10000)\n",
    "pop2 = np.random.binomial(10,0.5, 10000) \n"
   ]
  },
  {
   "cell_type": "code",
   "execution_count": 4,
   "metadata": {},
   "outputs": [
    {
     "name": "stdout",
     "output_type": "stream",
     "text": [
      "1.96\n",
      "5.17\n",
      "1.215894732285653\n",
      "1.4426018161641139\n"
     ]
    }
   ],
   "source": [
    "#Create a sample of the pops\n",
    "sample1 = np.random.choice(pop1, 100, replace=True)\n",
    "sample2 = np.random.choice(pop2, 100, replace=True)\n",
    "\n",
    "print(sample1.mean())\n",
    "print(sample2.mean())\n",
    "print(sample1.std())\n",
    "print(sample2.std())\n"
   ]
  },
  {
   "cell_type": "code",
   "execution_count": 5,
   "metadata": {},
   "outputs": [
    {
     "name": "stdout",
     "output_type": "stream",
     "text": [
      "2.039\n",
      "4.972\n",
      "1.3013373889964124\n",
      "1.607860690482854\n"
     ]
    }
   ],
   "source": [
    "#Task 1 - Increase the sample size to 1000, calculate the means and standard deviations, then decrease to 20 and calculate \n",
    "#the same metrics\n",
    "\n",
    "#Expectation: the larger sample size will have a similar mean and lower standard deviation relative to the sample size of 100.\n",
    "#The lower standard deviation would be a result of less variance in the data with a larger sample size.\n",
    "#The sample size of 20 will have either inflated or deflated means due to the lack of data points and one high\n",
    "#or low number skewing the metrics to one side of the other. The standard deviations will be larger due to more variance in \n",
    "#the data\n",
    "\n",
    "#test hypothesis\n",
    "sample1_1000 = np.random.choice(pop1, 1000, replace=True)\n",
    "sample2_1000 = np.random.choice(pop2, 1000, replace=True)\n",
    "print(sample1_1000.mean())\n",
    "print(sample2_1000.mean())\n",
    "print(sample1_1000.std())\n",
    "print(sample2_1000.std())\n",
    "\n"
   ]
  },
  {
   "cell_type": "code",
   "execution_count": 4,
   "metadata": {},
   "outputs": [
    {
     "name": "stdout",
     "output_type": "stream",
     "text": [
      "2.35\n",
      "5.4\n",
      "1.49248115565993\n",
      "1.4628738838327795\n",
      "[0 2 3 4 3 0 4 2 4 0 2 1 2 5 2 2 2 5 1 3]\n"
     ]
    }
   ],
   "source": [
    "#test hypothesis\n",
    "sample1_20 = np.random.choice(pop1, 20, replace=True)\n",
    "sample2_20 = np.random.choice(pop2, 20, replace=True)\n",
    "print(sample1_20.mean())\n",
    "print(sample2_20.mean())\n",
    "print(sample1_20.std())\n",
    "print(sample2_20.std())\n",
    "\n",
    "print(sample1_20)\n"
   ]
  },
  {
   "cell_type": "code",
   "execution_count": null,
   "metadata": {},
   "outputs": [],
   "source": [
    "#For the samples with n=1000, the mean of sample 1 increased slightly and the mean of sample 2 decreased slightly from \n",
    "#the n=100 samples. Both standard deviations increased very slightly. \n",
    "\n",
    "#For the samples with n=20, both means are higher than the n=100 samples. The standard deviations remain around the same for \n",
    "#sample 2 and a little bit higher for sample 1."
   ]
  },
  {
   "cell_type": "code",
   "execution_count": 5,
   "metadata": {},
   "outputs": [
    {
     "name": "stdout",
     "output_type": "stream",
     "text": [
      "Ttest_indResult(statistic=9.846146832835721, pvalue=7.181688167581066e-19)\n"
     ]
    }
   ],
   "source": [
    "#Task 2 - Change the probability value for pop1 to 0.3, then take new samples and computer the t-statistic and p-value.\n",
    "#Change the prob value for group 1 to 0.4 and do it again. \n",
    "pop1_try2 = np.random.binomial(10, 0.3, 10000)\n",
    "pop2_try2 = np.random.binomial(10,0.5, 10000) \n",
    "sample1_try2 = np.random.choice(pop1_try2, 100, replace=True)\n",
    "sample2_try2 = np.random.choice(pop2_try2, 100, replace=True)\n",
    "from scipy.stats import ttest_ind\n",
    "print(ttest_ind(sample2_try2, sample1_try2, equal_var=False))"
   ]
  },
  {
   "cell_type": "code",
   "execution_count": 6,
   "metadata": {},
   "outputs": [
    {
     "name": "stdout",
     "output_type": "stream",
     "text": [
      "Ttest_indResult(statistic=9.846146832835721, pvalue=7.181688167581066e-19)\n"
     ]
    }
   ],
   "source": [
    "pop1_try3 = np.random.binomial(10, 0.4, 10000)\n",
    "pop2_try3 = np.random.binomial(10,0.5, 10000) \n",
    "sample1_try3 = np.random.choice(pop1_try3, 100, replace=True)\n",
    "sample2_try3 = np.random.choice(pop2_try3, 100, replace=True)\n",
    "print(ttest_ind(sample2_try2, sample1_try2, equal_var=False))"
   ]
  },
  {
   "cell_type": "code",
   "execution_count": null,
   "metadata": {},
   "outputs": [],
   "source": [
    "#For task 2, the t-value and p-value do not change when you change the probability from 0.3 to 0.4. This is likely because\n",
    "#the proabilities are so close to one another (<=> 0.1)"
   ]
  },
  {
   "cell_type": "code",
   "execution_count": 8,
   "metadata": {},
   "outputs": [
    {
     "name": "stdout",
     "output_type": "stream",
     "text": [
      "4.026970996522338\n",
      "4.801555361880741\n",
      "1.2053316188407897\n",
      "1.5684596568907585\n"
     ]
    }
   ],
   "source": [
    "#Task 3: change the distributions of the populations from binomial to a distribution of your chioce\n",
    "\n",
    "pop1_try4 = np.random.gamma(10, 0.4, 10000)\n",
    "pop2_try4 = np.random.gamma(10,0.5, 10000) \n",
    "sample1_try4 = np.random.choice(pop1_try4, 100, replace=True)\n",
    "sample2_try4 = np.random.choice(pop2_try4, 100, replace=True)\n",
    "print(sample1_try4.mean())\n",
    "print(sample2_try4.mean())\n",
    "print(sample1_try4.std())\n",
    "print(sample2_try4.std())"
   ]
  },
  {
   "cell_type": "code",
   "execution_count": null,
   "metadata": {},
   "outputs": [],
   "source": [
    "#With the gamma distribution the sample 1 mean is much higher than with the binomial distribution. All other values are somewhat\n",
    "#the same. "
   ]
  }
 ],
 "metadata": {
  "kernelspec": {
   "display_name": "Python 3",
   "language": "python",
   "name": "python3"
  },
  "language_info": {
   "codemirror_mode": {
    "name": "ipython",
    "version": 3
   },
   "file_extension": ".py",
   "mimetype": "text/x-python",
   "name": "python",
   "nbconvert_exporter": "python",
   "pygments_lexer": "ipython3",
   "version": "3.5.3"
  }
 },
 "nbformat": 4,
 "nbformat_minor": 2
}
